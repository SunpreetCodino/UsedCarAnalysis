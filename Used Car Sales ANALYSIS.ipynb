{
 "cells": [
  {
   "cell_type": "markdown",
   "metadata": {},
   "source": [
    "# Used Cars Analysis\n",
    "### Sunpreet S. Chahal\n",
    "\n",
    "##### I will be using an used car dataset within this notebook. I will be analysing the diveristy of options available over the stock present. \n",
    "\n",
    "*Used as a presentation of current skills "
   ]
  },
  {
   "cell_type": "markdown",
   "metadata": {},
   "source": [
    "#### Set-up"
   ]
  },
  {
   "cell_type": "code",
   "execution_count": 17,
   "metadata": {},
   "outputs": [],
   "source": [
    "## Import libraries\n",
    "import pandas as pd\n",
    "import numpy as ny\n",
    "import matplotlib.pyplot as mpy\n",
    "import matplotlib as mtp\n",
    "import seaborn as sns"
   ]
  },
  {
   "cell_type": "code",
   "execution_count": 18,
   "metadata": {
    "scrolled": true
   },
   "outputs": [
    {
     "name": "stdout",
     "output_type": "stream",
     "text": [
      "<class 'pandas.core.frame.DataFrame'>\n",
      "RangeIndex: 38531 entries, 0 to 38530\n",
      "Data columns (total 19 columns):\n",
      " #   Column                  Non-Null Count  Dtype  \n",
      "---  ------                  --------------  -----  \n",
      " 0   manufacturer_name       38531 non-null  object \n",
      " 1   model_name              38531 non-null  object \n",
      " 2   transmission            38531 non-null  object \n",
      " 3   colour                  38531 non-null  object \n",
      " 4   mileage                 38531 non-null  int64  \n",
      " 5   year_produced           38531 non-null  int64  \n",
      " 6   engine_fuel             38531 non-null  object \n",
      " 7   engine_has_gas          38531 non-null  bool   \n",
      " 8   engine_type             38531 non-null  object \n",
      " 9   engine_capacity         38521 non-null  float64\n",
      " 10  body_type               38531 non-null  object \n",
      " 11  has_warranty            38531 non-null  bool   \n",
      " 12  state                   38531 non-null  object \n",
      " 13  drivetrain              38531 non-null  object \n",
      " 14  price_usd               38531 non-null  float64\n",
      " 15  is_exchangeable         38531 non-null  bool   \n",
      " 16  number_of_photos        38531 non-null  int64  \n",
      " 17  up_counter              38531 non-null  int64  \n",
      " 18  duration_listed (Days)  38531 non-null  int64  \n",
      "dtypes: bool(3), float64(2), int64(5), object(9)\n",
      "memory usage: 4.8+ MB\n"
     ]
    }
   ],
   "source": [
    "## Import Dataframe \n",
    "#Duplicate backslashes (\\) if cannot load df.\n",
    "carsdb = pd.read_csv(\"D:\\\\PROJECTS\\\\Used Cars\\\\Used Car Dataset ORIGINAL.csv\")\n",
    "\n",
    "#Get info of the dataframe\n",
    "carsdb.info()"
   ]
  },
  {
   "cell_type": "code",
   "execution_count": 19,
   "metadata": {},
   "outputs": [],
   "source": [
    "##Convert US terms into UK terms\n",
    "#Save the replaced terms in the given function\n",
    "carsdb = carsdb.replace('mechanical', 'manual')\n",
    "carsdb = carsdb.replace('gasoline', 'petrol')\n",
    "carsdb = carsdb.replace('sedan', 'saloon')\n",
    "carsdb = carsdb.replace('universal', 'suv')\n",
    "carsdb = carsdb.replace('minivan', 'van')"
   ]
  },
  {
   "cell_type": "code",
   "execution_count": 20,
   "metadata": {},
   "outputs": [
    {
     "data": {
      "text/html": [
       "<div>\n",
       "<style scoped>\n",
       "    .dataframe tbody tr th:only-of-type {\n",
       "        vertical-align: middle;\n",
       "    }\n",
       "\n",
       "    .dataframe tbody tr th {\n",
       "        vertical-align: top;\n",
       "    }\n",
       "\n",
       "    .dataframe thead th {\n",
       "        text-align: right;\n",
       "    }\n",
       "</style>\n",
       "<table border=\"1\" class=\"dataframe\">\n",
       "  <thead>\n",
       "    <tr style=\"text-align: right;\">\n",
       "      <th></th>\n",
       "      <th>manufacturer_name</th>\n",
       "      <th>model_name</th>\n",
       "      <th>transmission</th>\n",
       "      <th>colour</th>\n",
       "      <th>mileage</th>\n",
       "      <th>year_produced</th>\n",
       "      <th>engine_fuel</th>\n",
       "      <th>engine_has_gas</th>\n",
       "      <th>engine_type</th>\n",
       "      <th>engine_capacity</th>\n",
       "      <th>body_type</th>\n",
       "      <th>has_warranty</th>\n",
       "      <th>state</th>\n",
       "      <th>drivetrain</th>\n",
       "      <th>price_usd</th>\n",
       "      <th>is_exchangeable</th>\n",
       "      <th>number_of_photos</th>\n",
       "      <th>up_counter</th>\n",
       "      <th>duration_listed (Days)</th>\n",
       "    </tr>\n",
       "  </thead>\n",
       "  <tbody>\n",
       "    <tr>\n",
       "      <th>0</th>\n",
       "      <td>Subaru</td>\n",
       "      <td>Outback</td>\n",
       "      <td>automatic</td>\n",
       "      <td>silver</td>\n",
       "      <td>190000</td>\n",
       "      <td>2010</td>\n",
       "      <td>petrol</td>\n",
       "      <td>False</td>\n",
       "      <td>petrol</td>\n",
       "      <td>2.5</td>\n",
       "      <td>suv</td>\n",
       "      <td>False</td>\n",
       "      <td>owned</td>\n",
       "      <td>all</td>\n",
       "      <td>10900.00</td>\n",
       "      <td>False</td>\n",
       "      <td>9</td>\n",
       "      <td>13</td>\n",
       "      <td>16</td>\n",
       "    </tr>\n",
       "    <tr>\n",
       "      <th>1</th>\n",
       "      <td>Subaru</td>\n",
       "      <td>Outback</td>\n",
       "      <td>automatic</td>\n",
       "      <td>blue</td>\n",
       "      <td>290000</td>\n",
       "      <td>2002</td>\n",
       "      <td>petrol</td>\n",
       "      <td>False</td>\n",
       "      <td>petrol</td>\n",
       "      <td>3.0</td>\n",
       "      <td>suv</td>\n",
       "      <td>False</td>\n",
       "      <td>owned</td>\n",
       "      <td>all</td>\n",
       "      <td>5000.00</td>\n",
       "      <td>True</td>\n",
       "      <td>12</td>\n",
       "      <td>54</td>\n",
       "      <td>83</td>\n",
       "    </tr>\n",
       "    <tr>\n",
       "      <th>2</th>\n",
       "      <td>Subaru</td>\n",
       "      <td>Forester</td>\n",
       "      <td>automatic</td>\n",
       "      <td>red</td>\n",
       "      <td>402000</td>\n",
       "      <td>2001</td>\n",
       "      <td>petrol</td>\n",
       "      <td>False</td>\n",
       "      <td>petrol</td>\n",
       "      <td>2.5</td>\n",
       "      <td>suv</td>\n",
       "      <td>False</td>\n",
       "      <td>owned</td>\n",
       "      <td>all</td>\n",
       "      <td>2800.00</td>\n",
       "      <td>True</td>\n",
       "      <td>4</td>\n",
       "      <td>72</td>\n",
       "      <td>151</td>\n",
       "    </tr>\n",
       "    <tr>\n",
       "      <th>3</th>\n",
       "      <td>Subaru</td>\n",
       "      <td>Impreza</td>\n",
       "      <td>manual</td>\n",
       "      <td>blue</td>\n",
       "      <td>10000</td>\n",
       "      <td>1999</td>\n",
       "      <td>petrol</td>\n",
       "      <td>False</td>\n",
       "      <td>petrol</td>\n",
       "      <td>3.0</td>\n",
       "      <td>saloon</td>\n",
       "      <td>False</td>\n",
       "      <td>owned</td>\n",
       "      <td>all</td>\n",
       "      <td>9999.00</td>\n",
       "      <td>True</td>\n",
       "      <td>9</td>\n",
       "      <td>42</td>\n",
       "      <td>86</td>\n",
       "    </tr>\n",
       "    <tr>\n",
       "      <th>4</th>\n",
       "      <td>Subaru</td>\n",
       "      <td>Legacy</td>\n",
       "      <td>automatic</td>\n",
       "      <td>black</td>\n",
       "      <td>280000</td>\n",
       "      <td>2001</td>\n",
       "      <td>petrol</td>\n",
       "      <td>False</td>\n",
       "      <td>petrol</td>\n",
       "      <td>2.5</td>\n",
       "      <td>suv</td>\n",
       "      <td>False</td>\n",
       "      <td>owned</td>\n",
       "      <td>all</td>\n",
       "      <td>2134.11</td>\n",
       "      <td>True</td>\n",
       "      <td>14</td>\n",
       "      <td>7</td>\n",
       "      <td>7</td>\n",
       "    </tr>\n",
       "    <tr>\n",
       "      <th>...</th>\n",
       "      <td>...</td>\n",
       "      <td>...</td>\n",
       "      <td>...</td>\n",
       "      <td>...</td>\n",
       "      <td>...</td>\n",
       "      <td>...</td>\n",
       "      <td>...</td>\n",
       "      <td>...</td>\n",
       "      <td>...</td>\n",
       "      <td>...</td>\n",
       "      <td>...</td>\n",
       "      <td>...</td>\n",
       "      <td>...</td>\n",
       "      <td>...</td>\n",
       "      <td>...</td>\n",
       "      <td>...</td>\n",
       "      <td>...</td>\n",
       "      <td>...</td>\n",
       "      <td>...</td>\n",
       "    </tr>\n",
       "    <tr>\n",
       "      <th>38526</th>\n",
       "      <td>Chrysler</td>\n",
       "      <td>300</td>\n",
       "      <td>automatic</td>\n",
       "      <td>silver</td>\n",
       "      <td>290000</td>\n",
       "      <td>2000</td>\n",
       "      <td>petrol</td>\n",
       "      <td>False</td>\n",
       "      <td>petrol</td>\n",
       "      <td>3.5</td>\n",
       "      <td>saloon</td>\n",
       "      <td>False</td>\n",
       "      <td>owned</td>\n",
       "      <td>front</td>\n",
       "      <td>2750.00</td>\n",
       "      <td>True</td>\n",
       "      <td>5</td>\n",
       "      <td>85</td>\n",
       "      <td>301</td>\n",
       "    </tr>\n",
       "    <tr>\n",
       "      <th>38527</th>\n",
       "      <td>Chrysler</td>\n",
       "      <td>PT Cruiser</td>\n",
       "      <td>manual</td>\n",
       "      <td>blue</td>\n",
       "      <td>321000</td>\n",
       "      <td>2004</td>\n",
       "      <td>diesel</td>\n",
       "      <td>False</td>\n",
       "      <td>diesel</td>\n",
       "      <td>2.2</td>\n",
       "      <td>hatchback</td>\n",
       "      <td>False</td>\n",
       "      <td>owned</td>\n",
       "      <td>front</td>\n",
       "      <td>4800.00</td>\n",
       "      <td>True</td>\n",
       "      <td>4</td>\n",
       "      <td>20</td>\n",
       "      <td>317</td>\n",
       "    </tr>\n",
       "    <tr>\n",
       "      <th>38528</th>\n",
       "      <td>Chrysler</td>\n",
       "      <td>300</td>\n",
       "      <td>automatic</td>\n",
       "      <td>blue</td>\n",
       "      <td>777957</td>\n",
       "      <td>2000</td>\n",
       "      <td>petrol</td>\n",
       "      <td>False</td>\n",
       "      <td>petrol</td>\n",
       "      <td>3.5</td>\n",
       "      <td>saloon</td>\n",
       "      <td>False</td>\n",
       "      <td>owned</td>\n",
       "      <td>front</td>\n",
       "      <td>4300.00</td>\n",
       "      <td>False</td>\n",
       "      <td>3</td>\n",
       "      <td>63</td>\n",
       "      <td>369</td>\n",
       "    </tr>\n",
       "    <tr>\n",
       "      <th>38529</th>\n",
       "      <td>Chrysler</td>\n",
       "      <td>PT Cruiser</td>\n",
       "      <td>manual</td>\n",
       "      <td>black</td>\n",
       "      <td>20000</td>\n",
       "      <td>2001</td>\n",
       "      <td>petrol</td>\n",
       "      <td>False</td>\n",
       "      <td>petrol</td>\n",
       "      <td>2.0</td>\n",
       "      <td>van</td>\n",
       "      <td>False</td>\n",
       "      <td>owned</td>\n",
       "      <td>front</td>\n",
       "      <td>4000.00</td>\n",
       "      <td>True</td>\n",
       "      <td>7</td>\n",
       "      <td>156</td>\n",
       "      <td>490</td>\n",
       "    </tr>\n",
       "    <tr>\n",
       "      <th>38530</th>\n",
       "      <td>Chrysler</td>\n",
       "      <td>Voyager</td>\n",
       "      <td>automatic</td>\n",
       "      <td>silver</td>\n",
       "      <td>297729</td>\n",
       "      <td>2000</td>\n",
       "      <td>petrol</td>\n",
       "      <td>False</td>\n",
       "      <td>petrol</td>\n",
       "      <td>2.4</td>\n",
       "      <td>van</td>\n",
       "      <td>False</td>\n",
       "      <td>owned</td>\n",
       "      <td>front</td>\n",
       "      <td>3200.00</td>\n",
       "      <td>True</td>\n",
       "      <td>4</td>\n",
       "      <td>73</td>\n",
       "      <td>632</td>\n",
       "    </tr>\n",
       "  </tbody>\n",
       "</table>\n",
       "<p>38531 rows × 19 columns</p>\n",
       "</div>"
      ],
      "text/plain": [
       "      manufacturer_name  model_name transmission  colour  mileage  \\\n",
       "0                Subaru     Outback    automatic  silver   190000   \n",
       "1                Subaru     Outback    automatic    blue   290000   \n",
       "2                Subaru    Forester    automatic     red   402000   \n",
       "3                Subaru     Impreza       manual    blue    10000   \n",
       "4                Subaru      Legacy    automatic   black   280000   \n",
       "...                 ...         ...          ...     ...      ...   \n",
       "38526          Chrysler         300    automatic  silver   290000   \n",
       "38527          Chrysler  PT Cruiser       manual    blue   321000   \n",
       "38528          Chrysler         300    automatic    blue   777957   \n",
       "38529          Chrysler  PT Cruiser       manual   black    20000   \n",
       "38530          Chrysler     Voyager    automatic  silver   297729   \n",
       "\n",
       "       year_produced engine_fuel  engine_has_gas engine_type  engine_capacity  \\\n",
       "0               2010      petrol           False      petrol              2.5   \n",
       "1               2002      petrol           False      petrol              3.0   \n",
       "2               2001      petrol           False      petrol              2.5   \n",
       "3               1999      petrol           False      petrol              3.0   \n",
       "4               2001      petrol           False      petrol              2.5   \n",
       "...              ...         ...             ...         ...              ...   \n",
       "38526           2000      petrol           False      petrol              3.5   \n",
       "38527           2004      diesel           False      diesel              2.2   \n",
       "38528           2000      petrol           False      petrol              3.5   \n",
       "38529           2001      petrol           False      petrol              2.0   \n",
       "38530           2000      petrol           False      petrol              2.4   \n",
       "\n",
       "       body_type  has_warranty  state drivetrain  price_usd  is_exchangeable  \\\n",
       "0            suv         False  owned        all   10900.00            False   \n",
       "1            suv         False  owned        all    5000.00             True   \n",
       "2            suv         False  owned        all    2800.00             True   \n",
       "3         saloon         False  owned        all    9999.00             True   \n",
       "4            suv         False  owned        all    2134.11             True   \n",
       "...          ...           ...    ...        ...        ...              ...   \n",
       "38526     saloon         False  owned      front    2750.00             True   \n",
       "38527  hatchback         False  owned      front    4800.00             True   \n",
       "38528     saloon         False  owned      front    4300.00            False   \n",
       "38529        van         False  owned      front    4000.00             True   \n",
       "38530        van         False  owned      front    3200.00             True   \n",
       "\n",
       "       number_of_photos  up_counter  duration_listed (Days)  \n",
       "0                     9          13                      16  \n",
       "1                    12          54                      83  \n",
       "2                     4          72                     151  \n",
       "3                     9          42                      86  \n",
       "4                    14           7                       7  \n",
       "...                 ...         ...                     ...  \n",
       "38526                 5          85                     301  \n",
       "38527                 4          20                     317  \n",
       "38528                 3          63                     369  \n",
       "38529                 7         156                     490  \n",
       "38530                 4          73                     632  \n",
       "\n",
       "[38531 rows x 19 columns]"
      ]
     },
     "execution_count": 20,
     "metadata": {},
     "output_type": "execute_result"
    }
   ],
   "source": [
    "#Present Changes\n",
    "carsdb"
   ]
  },
  {
   "cell_type": "markdown",
   "metadata": {},
   "source": [
    "### Visualising/Analysing DF"
   ]
  },
  {
   "cell_type": "markdown",
   "metadata": {},
   "source": [
    "#### Manufacturers of the cars\n",
    "Analyse the different manufacturers of the cars, then visualise to see the brand diversity within this dataset"
   ]
  },
  {
   "cell_type": "code",
   "execution_count": 21,
   "metadata": {},
   "outputs": [],
   "source": [
    "##Count the amount of vehicles with Manual/Automatic Transmissions\n",
    "\n",
    "#Count the amount of vehicles per brand\n",
    "carsdb['Count'] = 1\n",
    "macars = carsdb.groupby(['manufacturer_name']).count()['Count']"
   ]
  },
  {
   "cell_type": "code",
   "execution_count": 22,
   "metadata": {},
   "outputs": [
    {
     "data": {
      "text/plain": [
       "manufacturer_name\n",
       "Acura           66\n",
       "Alfa Romeo     207\n",
       "Audi          2468\n",
       "BMW           2610\n",
       "Buick           47\n",
       "Name: Count, dtype: int64"
      ]
     },
     "execution_count": 22,
     "metadata": {},
     "output_type": "execute_result"
    }
   ],
   "source": [
    "##Present a sample of the code above\n",
    "macars.head()"
   ]
  },
  {
   "cell_type": "code",
   "execution_count": 23,
   "metadata": {},
   "outputs": [
    {
     "data": {
      "text/plain": [
       "manufacturer_name\n",
       "Renault       2493\n",
       "Ford          2566\n",
       "BMW           2610\n",
       "Opel          2759\n",
       "Volkswagen    4243\n",
       "Name: Count, dtype: int64"
      ]
     },
     "execution_count": 23,
     "metadata": {},
     "output_type": "execute_result"
    }
   ],
   "source": [
    "##I want work with the top 10~ brands since they take up a more significant amount of the stock\n",
    "macars = macars.sort_values()\n",
    "macars.tail(5)"
   ]
  },
  {
   "cell_type": "code",
   "execution_count": 24,
   "metadata": {},
   "outputs": [
    {
     "data": {
      "image/png": "[encoded data removed]",
      "text/plain": [
       "<Figure size 720x360 with 1 Axes>"
      ]
     },
     "metadata": {
      "needs_background": "light"
     },
     "output_type": "display_data"
    }
   ],
   "source": [
    "##Create a bar chart for various brands of the cars\n",
    "#Supply Values\n",
    "labels = ['Nissan','Citroen','Peugeot','Mercedes-Benz','Audi','Renault','Ford','BMW','Opel','Volkswagen'  ]\n",
    "values = [1361,1562,1909,2237,2468,2493,2566,2610,2759,4243]\n",
    "mpy.figure(figsize= (10,5))\n",
    "\n",
    "##Plot Data\n",
    "col_cman = mpy.bar(labels, values, width = 0.65, label = 'Brands', color=['black'])\n",
    "mpy.yticks([500,1000,1500,2000,2500,3000,3500,4000,4500])\n",
    "mpy.xticks(labels, rotation= 'vertical')\n",
    "mpy.minorticks_on()\n",
    "\n",
    "##Present Data\n",
    "mpy.legend()\n",
    "mpy.show(col_cman)\n"
   ]
  },
  {
   "cell_type": "markdown",
   "metadata": {},
   "source": [
    "#### Body type of the cars\n",
    "Analyse the different body options for the cars, and to visualise each body-type. "
   ]
  },
  {
   "cell_type": "code",
   "execution_count": 25,
   "metadata": {},
   "outputs": [],
   "source": [
    "##Count the amount of vehicles with Manual/Automatic Transmissions\n",
    "carsdb['Count'] = 1\n",
    "carbod = carsdb.groupby(['body_type']).count()['Count']"
   ]
  },
  {
   "cell_type": "code",
   "execution_count": 26,
   "metadata": {},
   "outputs": [
    {
     "data": {
      "text/plain": [
       "body_type\n",
       "limousine       12\n",
       "cabriolet       75\n",
       "pickup         129\n",
       "liftback       552\n",
       "coupe          652\n",
       "minibus       1369\n",
       "van           4416\n",
       "hatchback     7644\n",
       "suv          10671\n",
       "saloon       13011\n",
       "Name: Count, dtype: int64"
      ]
     },
     "execution_count": 26,
     "metadata": {},
     "output_type": "execute_result"
    }
   ],
   "source": [
    "carbod.sort_values()"
   ]
  },
  {
   "cell_type": "code",
   "execution_count": 27,
   "metadata": {},
   "outputs": [
    {
     "data": {
      "image/png": "[encoded data removed]",
      "text/plain": [
       "<Figure size 1080x864 with 1 Axes>"
      ]
     },
     "metadata": {},
     "output_type": "display_data"
    }
   ],
   "source": [
    "##Create a pie chart for the different transmissions\n",
    "#Supply Values\n",
    "bodcount = [12,75,129,552,652,1369,4416,7644,10671,13011]\n",
    "bodlabels = ['limousine','cabriolet','pickup','liftback','coupe','minibus','van','hatchback','suv','saloon']\n",
    "mpy.figure(figsize= (15,12))\n",
    "\n",
    "##Plot pie\n",
    "bod_pie = mpy.pie(bodcount, labels = bodlabels)\n",
    "\n",
    "##Present\n",
    "mpy.legend()\n",
    "mpy.show(bod_pie)"
   ]
  },
  {
   "cell_type": "markdown",
   "metadata": {},
   "source": [
    "#### Colours of the cars\n",
    "Analyse the different colour options for the cars, and to visualise each body-type to see the diverity of colour options"
   ]
  },
  {
   "cell_type": "code",
   "execution_count": 28,
   "metadata": {},
   "outputs": [],
   "source": [
    "##Count the different body-types of the cars \n",
    "carsdb['Count'] = 1\n",
    "colcars = carsdb.groupby(['colour']).count()['Count']"
   ]
  },
  {
   "cell_type": "code",
   "execution_count": 29,
   "metadata": {},
   "outputs": [
    {
     "data": {
      "text/plain": [
       "colour\n",
       "black    7705\n",
       "blue     5802\n",
       "brown     886\n",
       "green    2760\n",
       "grey     3751\n",
       "Name: Count, dtype: int64"
      ]
     },
     "execution_count": 29,
     "metadata": {},
     "output_type": "execute_result"
    }
   ],
   "source": [
    "colcars.head(5)"
   ]
  },
  {
   "cell_type": "code",
   "execution_count": 30,
   "metadata": {},
   "outputs": [
    {
     "data": {
      "image/png": "[encoded data removed]",
      "text/plain": [
       "<Figure size 720x360 with 1 Axes>"
      ]
     },
     "metadata": {
      "needs_background": "light"
     },
     "output_type": "display_data"
    }
   ],
   "source": [
    "##Create a bar chart for various colours of the cars\n",
    "#Supply Values\n",
    "labels = ['black','blue','brown','green','grey','orange','other','red','silver','violet','white','yellow' ]\n",
    "colour_values = [7705,5802,886,2760,3751,184,2688,2925,6852,463,4212,303]\n",
    "mpy.figure(figsize= (10,5))\n",
    "\n",
    "##Plot Data\n",
    "col_bar = mpy.bar(labels, colour_values, width = 0.5, label = 'Colours', color=['black','blue','brown','green','grey','orange','black','red','silver','violet','grey','yellow'])\n",
    "mpy.yticks([500,1000,1500,2000,2500,3000,3500,4000,4500,5000,5500,6000,6500,7000,7500,8000])\n",
    "mpy.xticks(labels, rotation= 'vertical')\n",
    "mpy.minorticks_on()\n",
    "\n",
    "##Present Data\n",
    "mpy.legend()\n",
    "mpy.show(col_bar)\n",
    "\n",
    "## White/Other not available and have been subsituted for another colour"
   ]
  },
  {
   "cell_type": "markdown",
   "metadata": {},
   "source": [
    "#### Production year of the cars \n",
    "Analyse the production years of the present cars, visualise to the diversity of the production years of the cars"
   ]
  },
  {
   "cell_type": "code",
   "execution_count": 35,
   "metadata": {},
   "outputs": [],
   "source": [
    "##Create a variable for each decade, us; .between (*value1, *value*) to select a range \n",
    "#Create another variable to sum up all of the True values, then plot values within a chart\n",
    "dec40s = carsdb['year_produced'].between(1940, 1949, inclusive=False).sort_values(ascending=False)\n",
    "d40s = sum(dec40s)\n",
    "\n",
    "dec50s = carsdb['year_produced'].between(1950, 1960, inclusive=False).sort_values()\n",
    "d50s = sum(dec50s)\n",
    "\n",
    "dec60s = carsdb['year_produced'].between(1960, 1970, inclusive=False).sort_values()\n",
    "d60s = sum(dec50s)\n",
    "\n",
    "dec70s = carsdb['year_produced'].between(1970, 1980, inclusive=False).sort_values()\n",
    "d70s = sum(dec70s)\n",
    "\n",
    "dec80s = carsdb['year_produced'].between(1980, 1990, inclusive=False).sort_values()\n",
    "d80s = sum(dec80s)\n",
    "\n",
    "dec90s = carsdb['year_produced'].between(1990, 2000, inclusive=False).sort_values()\n",
    "d90s = sum(dec80s)\n",
    "\n",
    "dec00s = carsdb['year_produced'].between(2000, 2010, inclusive=False).sort_values()\n",
    "d00s = sum(dec00s)\n",
    "\n",
    "dec10s = carsdb['year_produced'].between(2010, 2020, inclusive=False).sort_values()\n",
    "d10s = sum(dec10s)"
   ]
  },
  {
   "cell_type": "code",
   "execution_count": 36,
   "metadata": {},
   "outputs": [
    {
     "data": {
      "image/png": "[encoded data removed]",
      "text/plain": [
       "<Figure size 1080x864 with 1 Axes>"
      ]
     },
     "metadata": {},
     "output_type": "display_data"
    }
   ],
   "source": [
    "##Create a pie chart for the different catergoiries of production years \n",
    "#Supply Values\n",
    "tcount = [d40s, d50s,d60s, d70s, d80s, d90s, d00s, d10s]\n",
    "tlabels = ['1940s','1950s','1960s','1970s','1980s','1990s','2000s','2010s']\n",
    "mpy.figure(figsize= (15,12))\n",
    "\n",
    "##Plot pie\n",
    "yr_pie = mpy.pie(tcount, labels = tlabels)\n",
    "\n",
    "##Present\n",
    "mpy.legend()\n",
    "mpy.show(yr_pie)"
   ]
  },
  {
   "cell_type": "markdown",
   "metadata": {},
   "source": [
    "#### Transmission of the cars"
   ]
  },
  {
   "cell_type": "code",
   "execution_count": 33,
   "metadata": {},
   "outputs": [],
   "source": [
    "##Count the amount of vehicles with Manual/Automatic Transmissions\n",
    "carsdb['Count'] = 1\n",
    "tcars = carsdb.groupby(['transmission']).count()['Count']"
   ]
  },
  {
   "cell_type": "code",
   "execution_count": 34,
   "metadata": {},
   "outputs": [
    {
     "data": {
      "text/plain": [
       "transmission\n",
       "automatic    12898\n",
       "manual       25633\n",
       "Name: Count, dtype: int64"
      ]
     },
     "execution_count": 34,
     "metadata": {},
     "output_type": "execute_result"
    }
   ],
   "source": [
    "tcars"
   ]
  },
  {
   "cell_type": "code",
   "execution_count": null,
   "metadata": {},
   "outputs": [],
   "source": [
    "##Create a pie chart for the different transmissions\n",
    "#Supply Values\n",
    "tcount = [12898, 25633]\n",
    "tlabels = ['Auto', 'Manual']\n",
    "mpy.figure(figsize= (10,5))\n",
    "\n",
    "##Plot pie\n",
    "t_pie = mpy.pie(tcount, labels = tlabels)\n",
    "\n",
    "##Present\n",
    "mpy.legend()\n",
    "mpy.show(t_pie)"
   ]
  }
 ],
 "metadata": {
  "kernelspec": {
   "display_name": "Python 3",
   "language": "python",
   "name": "python3"
  },
  "language_info": {
   "codemirror_mode": {
    "name": "ipython",
    "version": 3
   },
   "file_extension": ".py",
   "mimetype": "text/x-python",
   "name": "python",
   "nbconvert_exporter": "python",
   "pygments_lexer": "ipython3",
   "version": "3.8.3"
  }
 },
 "nbformat": 4,
 "nbformat_minor": 4
}
